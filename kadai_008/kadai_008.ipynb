{
  "nbformat": 4,
  "nbformat_minor": 0,
  "metadata": {
    "colab": {
      "provenance": []
    },
    "kernelspec": {
      "name": "python3",
      "display_name": "Python 3"
    },
    "language_info": {
      "name": "python"
    }
  },
  "cells": [
    {
      "cell_type": "code",
      "execution_count": 101,
      "metadata": {
        "colab": {
          "base_uri": "https://localhost:8080/"
        },
        "id": "VJm67DPfv-nL",
        "outputId": "23b7b4b5-0777-4f03-f960-b93d1784d117"
      },
      "outputs": [
        {
          "output_type": "stream",
          "name": "stdout",
          "text": [
            "15\n",
            "FizzBuzz\n"
          ]
        }
      ],
      "source": [
        "# ランダムな整数を利用するために、randomモジュールをインポート\n",
        "import random\n",
        "\n",
        "# 変数varに1～15までのランダムな整数を代入する\n",
        "var = random.randint(1,15)\n",
        "\n",
        "# 変数varの値出力\n",
        "print(var)\n",
        "\n",
        "# 変数varが、3の倍数の場合は「Fizz」を出力\n",
        "# 変数varが、5の倍数の場合は「Buzz」を出力\n",
        "# 変数varが、3の倍数と5の倍数の両方に該当する場合は「FizzBuzz」を出力\n",
        "# 上記のどの場合にも該当しない場合は、変数varの値を出力\n",
        "if var % 3== 0 and var % 5== 0 :\n",
        "    print(\"FizzBuzz\")\n",
        "elif var % 3== 0 :\n",
        "    print(\"Fizz\")\n",
        "elif var % 5== 0 :\n",
        "    print(\"Buzz\")\n"
      ]
    }
  ]
}