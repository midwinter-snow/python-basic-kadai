{
  "nbformat": 4,
  "nbformat_minor": 0,
  "metadata": {
    "colab": {
      "provenance": []
    },
    "kernelspec": {
      "name": "python3",
      "display_name": "Python 3"
    },
    "language_info": {
      "name": "python"
    }
  },
  "cells": [
    {
      "cell_type": "code",
      "execution_count": 185,
      "metadata": {
        "colab": {
          "base_uri": "https://localhost:8080/"
        },
        "id": "VJm67DPfv-nL",
        "outputId": "9d2f094f-715b-4fcc-cac6-9ce19c8e777e"
      },
      "outputs": [
        {
          "output_type": "stream",
          "name": "stdout",
          "text": [
            "15\n",
            "FizzBuzz\n"
          ]
        }
      ],
      "source": [
        "# ランダムな整数を利用するために、randomモジュールをインポート\n",
        "import random\n",
        "\n",
        "# 変数varに1～15までのランダムな整数を代入する\n",
        "var = random.randint(1,15)\n",
        "\n",
        "# 変数varの値出力\n",
        "print(var)\n",
        "\n",
        "# 変数varが、3の倍数の場合は「Fizz」を出力\n",
        "# 変数varが、5の倍数の場合は「Buzz」を出力\n",
        "# 変数varが、3の倍数と5の倍数の両方に該当する場合は「FizzBuzz」を出力\n",
        "# 上記のどの場合にも該当しない場合は、変数varの値を出力\n",
        "if var == 3 or var == 6 or var == 9 or var == 12 :\n",
        "    print(\"Fizz\")\n",
        "elif var == 5 or var == 10 :\n",
        "    print(\"Buzz\")\n",
        "elif var == 15 :\n",
        "    print(\"FizzBuzz\")\n"
      ]
    }
  ]
}