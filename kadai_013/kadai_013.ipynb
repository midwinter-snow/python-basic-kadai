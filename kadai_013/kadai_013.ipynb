{
  "nbformat": 4,
  "nbformat_minor": 0,
  "metadata": {
    "colab": {
      "provenance": []
    },
    "kernelspec": {
      "name": "python3",
      "display_name": "Python 3"
    },
    "language_info": {
      "name": "python"
    }
  },
  "cells": [
    {
      "cell_type": "code",
      "execution_count": 58,
      "metadata": {
        "colab": {
          "base_uri": "https://localhost:8080/"
        },
        "id": "TwBF-ctEtb-q",
        "outputId": "bb2c3f84-2c19-440b-b124-fabf95dbe668"
      },
      "outputs": [
        {
          "output_type": "stream",
          "name": "stdout",
          "text": [
            "1100.0\n"
          ]
        }
      ],
      "source": [
        "# 商品を購入して、消費税を加えた計算結果を返す関数を記述\n",
        "# 第1引数に商品の金額、第2引数に消費税（10%）を設定\n",
        "\n",
        "def tax_included_price(price,tax):\n",
        "    return  price * (tax+100) /100\n",
        "\n",
        "#price(価格)が100円、tax(消費税)が10%を表示\n",
        "print(tax_included_price(1000,10))\n",
        "\n"
      ]
    }
  ]
}