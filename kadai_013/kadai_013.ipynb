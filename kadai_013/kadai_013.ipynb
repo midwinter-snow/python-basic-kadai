{
  "nbformat": 4,
  "nbformat_minor": 0,
  "metadata": {
    "colab": {
      "provenance": []
    },
    "kernelspec": {
      "name": "python3",
      "display_name": "Python 3"
    },
    "language_info": {
      "name": "python"
    }
  },
  "cells": [
    {
      "cell_type": "code",
      "execution_count": 3,
      "metadata": {
        "colab": {
          "base_uri": "https://localhost:8080/"
        },
        "id": "TwBF-ctEtb-q",
        "outputId": "925ff0a4-8c04-45f9-8fd9-ffcd2a88ce21"
      },
      "outputs": [
        {
          "output_type": "stream",
          "name": "stdout",
          "text": [
            "購入商品の代金は1100.0円（税込）です\n"
          ]
        }
      ],
      "source": [
        "# 商品を購入して、消費税を加えた計算結果を返す関数を記述\n",
        "# 第1引数に商品の金額、第2引数に消費税（10%）を設定\n",
        "\n",
        "def tax_included_price(price,tax):\n",
        "    total= price * tax\n",
        "\n",
        "    print(f\"購入商品の代金は{total}円（税込）です\")\n",
        "\n",
        "tax_included_price(1000,1.10)"
      ]
    }
  ]
}