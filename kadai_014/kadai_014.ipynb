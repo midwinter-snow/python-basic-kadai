{
  "nbformat": 4,
  "nbformat_minor": 0,
  "metadata": {
    "colab": {
      "provenance": [],
      "toc_visible": true
    },
    "kernelspec": {
      "name": "python3",
      "display_name": "Python 3"
    },
    "language_info": {
      "name": "python"
    }
  },
  "cells": [
    {
      "cell_type": "code",
      "source": [
        "# グローバルスコープとローカルスコープの違いを理解すること\n",
        "# スコープを意識したプログラムが書けるようになること\n",
        "\n",
        "# グローバル変数を定義\n",
        "price1 = 100\n",
        "price2 = 200\n",
        "tax = 1.1\n",
        "\n",
        "# グローバルスコープの範囲外でグローバル変数を使う（エラーが発生のでtaxをグローバル変数に移動）\n",
        "def total():\n",
        "\n",
        "    return price1 + price2\n",
        "\n",
        "# グローバルスコープの範囲内でグローバル変数を使う\n",
        "print (total() * tax)"
      ],
      "metadata": {
        "colab": {
          "base_uri": "https://localhost:8080/"
        },
        "id": "M_E9rM3DKUCa",
        "outputId": "214f518c-7993-43f2-c0d9-7701846a8b8f"
      },
      "execution_count": 12,
      "outputs": [
        {
          "output_type": "stream",
          "name": "stdout",
          "text": [
            "330.0\n"
          ]
        }
      ]
    }
  ]
}