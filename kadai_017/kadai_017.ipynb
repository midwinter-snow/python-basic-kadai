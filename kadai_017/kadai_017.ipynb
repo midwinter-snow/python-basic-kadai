{
  "nbformat": 4,
  "nbformat_minor": 0,
  "metadata": {
    "colab": {
      "provenance": []
    },
    "kernelspec": {
      "name": "python3",
      "display_name": "Python 3"
    },
    "language_info": {
      "name": "python"
    }
  },
  "cells": [
    {
      "cell_type": "code",
      "execution_count": null,
      "metadata": {
        "colab": {
          "base_uri": "https://localhost:8080/"
        },
        "id": "MWEK157c78Rw",
        "outputId": "46ce1c72-e3eb-4368-8c8f-b1c37ce5d3d4"
      },
      "outputs": [
        {
          "output_type": "stream",
          "name": "stdout",
          "text": [
            "侍太郎は大人です\n",
            "侍花子は未成年です\n"
          ]
        }
      ],
      "source": [
        "# 名前(name)と年齢(age)の属性を持つHumanクラスを作成\n",
        "# Humanクラスには、以下の条件で標準出力(print)するcheck_adultメソッドを追加\n",
        "# ageが20以上の場合に大人であること・そうでない場合に大人でないこと\n",
        "# Humanクラスのインスタンスを複数生成してリストに追加し、リストの要素数分だけcheck_adultメソッドを呼び出し\n",
        "# 「リスト・ディクショナリ」「条件分岐」「繰り返し処理」「関数」「変数のスコープ」「クラス」を用いて、「課題の内容」の仕様通りのプログラムが記述\n",
        "\n",
        "#クラス名\n",
        "class Human:\n",
        "  def __init__(self,name,age):\n",
        "    # 属性定義\n",
        "    self.name = name\n",
        "    self.age  = age\n",
        "\n",
        "    # メソッド定義\n",
        "  def check_adult(self):\n",
        "    # 20以上なら、文字列を出力する\n",
        "    if self.age >= 20 :\n",
        "     print(\"{}は大人です\".format(self.name))\n",
        "    # そうでない場合、文字列を出力する\n",
        "    else :\n",
        "     print(\"{}は未成年です\".format(self.name))\n",
        "\n",
        "# リスト追加\n",
        "personal_data1 = [\"侍太郎\",25]\n",
        "personal_data2 = [\"侍花子\",19]\n",
        "\n",
        "# インスタンス化\n",
        "human = [personal_data1,personal_data2]\n",
        "for p in human:\n",
        "  p.append(personal_data2)\n",
        "\n",
        "# メソッドにアクセスして実行\n",
        "i = 0\n",
        "for h in human :\n",
        "  Human(h[0],h[1]).check_adult()\n"
      ]
    }
  ]
}