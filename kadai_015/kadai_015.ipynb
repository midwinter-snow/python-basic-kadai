{
  "nbformat": 4,
  "nbformat_minor": 0,
  "metadata": {
    "colab": {
      "provenance": []
    },
    "kernelspec": {
      "name": "python3",
      "display_name": "Python 3"
    },
    "language_info": {
      "name": "python"
    }
  },
  "cells": [
    {
      "cell_type": "code",
      "execution_count": 36,
      "metadata": {
        "colab": {
          "base_uri": "https://localhost:8080/"
        },
        "id": "U5H53wqrohf_",
        "outputId": "11d149a3-0335-4ddf-cfc5-d8c6ff869ab7"
      },
      "outputs": [
        {
          "output_type": "stream",
          "name": "stdout",
          "text": [
            "名前は 侍太郎 です。\n",
            "年齢は 35 歳です。\n"
          ]
        }
      ],
      "source": [
        "# 名前(name)と年齢(age)の属性を持つHumanクラスを作成\n",
        "# nameとageを標準出力(print)するメソッド(printinfo)を追加\n",
        "# Humanクラスのインスタンスは、変数に代入してプログラム内で使用\n",
        "\n",
        "# クラス名\n",
        "class Human:\n",
        "    def __init__(self,name,age):\n",
        "      # 属性を定義\n",
        "      self.name = name\n",
        "      self.age = age\n",
        "    # メゾッドを定義\n",
        "    def printinfo(self):\n",
        "        print(\"名前は\",self.name,\"です。\")\n",
        "        print(\"年齢は\",self.age,\"歳です。\")\n",
        "\n",
        "# インスタンス化\n",
        "human = Human(\"侍太郎\",\"35\")\n",
        "\n",
        "# メソッドにアクセスして実行\n",
        "human.printinfo()\n"
      ]
    }
  ]
}