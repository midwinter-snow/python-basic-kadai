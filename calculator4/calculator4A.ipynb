{
  "nbformat": 4,
  "nbformat_minor": 0,
  "metadata": {
    "colab": {
      "provenance": []
    },
    "kernelspec": {
      "name": "python3",
      "display_name": "Python 3"
    },
    "language_info": {
      "name": "python"
    }
  },
  "cells": [
    {
      "cell_type": "code",
      "execution_count": 1,
      "metadata": {
        "colab": {
          "base_uri": "https://localhost:8080/"
        },
        "id": "FKdqEXMIBxNJ",
        "outputId": "c5fabe54-a487-45b6-9e54-7388bb9cabb0"
      },
      "outputs": [
        {
          "name": "stdout",
          "output_type": "stream",
          "text": [
            "Enter your first number:10\n",
            "Enter your second number:5\n"
          ]
        }
      ],
      "source": [
        "import tkinter as tk\n",
        "\n",
        "def calculate():\n",
        "    try:\n",
        "        num_1 = int(entry_num1.get())\n",
        "        num_2 = int(entry_num2.get())\n",
        "\n",
        "        # Calculate results\n",
        "        result_var.set(\"Results:\\n\")\n",
        "        result_var.set(result_var.get() + \"{} + {} = {}\\n\".format(num_1, num_2, num_1 + num_2))\n",
        "        result_var.set(result_var.get() + \"{} - {} = {}\\n\".format(num_1, num_2, num_1 - num_2))\n",
        "        result_var.set(result_var.get() + \"{} * {} = {}\\n\".format(num_1, num_2, num_1 * num_2))\n",
        "        result_var.set(result_var.get() + \"{} / {} = {:.2f}\\n\".format(num_1, num_2, num_1 / num_2))\n",
        "\n",
        "    except ValueError:\n",
        "        result_var.set(\"Error: Please enter valid numbers.\")\n",
        "\n",
        "# Create the main window\n",
        "root = tk.Tk()\n",
        "root.title(\"Calculator\")\n",
        "\n",
        "# Create and pack entry widgets\n",
        "entry_num1 = tk.Entry(root, width=10)\n",
        "entry_num1.grid(row=0, column=0, padx=5, pady=5)\n",
        "\n",
        "entry_num2 = tk.Entry(root, width=10)\n",
        "entry_num2.grid(row=0, column=1, padx=5, pady=5)\n",
        "\n",
        "# Create and pack the calculate button\n",
        "calculate_button = tk.Button(root, text=\"Calculate\", command=calculate)\n",
        "calculate_button.grid(row=1, column=0, columnspan=2, pady=10)\n",
        "\n",
        "# Create and pack the result label\n",
        "result_var = tk.StringVar()\n",
        "result_label = tk.Label(root, textvariable=result_var, justify='left')\n",
        "result_label.grid(row=2, column=0, columnspan=2, padx=5, pady=5)\n",
        "\n",
        "# Start the main event loop\n",
        "root.mainloop()\n"
      ]
    }
  ]
}