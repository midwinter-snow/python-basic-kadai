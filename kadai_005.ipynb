{
  "nbformat": 4,
  "nbformat_minor": 0,
  "metadata": {
    "colab": {
      "provenance": []
    },
    "kernelspec": {
      "name": "python3",
      "display_name": "Python 3"
    },
    "language_info": {
      "name": "python"
    }
  },
  "cells": [
    {
      "cell_type": "code",
      "execution_count": 1,
      "metadata": {
        "colab": {
          "base_uri": "https://localhost:8080/"
        },
        "id": "oKCbYpseWYtf",
        "outputId": "365b65c9-f0c5-4629-8165-3af63d08c1db"
      },
      "outputs": [
        {
          "output_type": "stream",
          "name": "stdout",
          "text": [
            "台形の面積は75.0㎠です\n"
          ]
        }
      ],
      "source": [
        "# 上辺\n",
        "upper_base=10\n",
        "# 下辺\n",
        "low_base=20\n",
        "# 高さ\n",
        "height=5\n",
        "\n",
        "# 台形の面積を計算\n",
        "trapezoid_area=(upper_base+low_base)*height/2\n",
        "# 結果と出力\n",
        "print(f\"台形の面積は{trapezoid_area}㎠です\")"
      ]
    }
  ]
}