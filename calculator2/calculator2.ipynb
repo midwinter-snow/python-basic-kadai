{
  "nbformat": 4,
  "nbformat_minor": 0,
  "metadata": {
    "colab": {
      "provenance": []
    },
    "kernelspec": {
      "name": "python3",
      "display_name": "Python 3"
    },
    "language_info": {
      "name": "python"
    }
  },
  "cells": [
    {
      "cell_type": "code",
      "execution_count": 21,
      "metadata": {
        "colab": {
          "base_uri": "https://localhost:8080/"
        },
        "id": "p2G1P48DJuEk",
        "outputId": "ea61aa63-520d-4081-8257-5b10f2226348"
      },
      "outputs": [
        {
          "output_type": "stream",
          "name": "stdout",
          "text": [
            "Enter your first number:10\n",
            "Enter your second number:5\n",
            "計算結果が calculation_results.csv に書き込まれました。\n"
          ]
        }
      ],
      "source": [
        "import csv\n",
        "\n",
        "num_1 = int(input('Enter your first number:'))\n",
        "num_2 = int(input('Enter your second number:'))\n",
        "\n",
        "# 計算結果のリストを作成\n",
        "results = [\n",
        "    [\"Operation\", \"Result\"],\n",
        "    [\"{} + {}\".format(num_1, num_2), num_1 + num_2],\n",
        "    [\"{} - {}\".format(num_1, num_2), num_1 - num_2],\n",
        "    [\"{} * {}\".format(num_1, num_2), num_1 * num_2],\n",
        "    [\"{} / {}\".format(num_1, num_2), num_1 / num_2]\n",
        "]\n",
        "\n",
        "# CSVファイルにデータを書き込む\n",
        "csv_file_path = \"calculation_results.csv\"\n",
        "with open(csv_file_path, mode='w', newline='') as file:\n",
        "    writer = csv.writer(file)\n",
        "    writer.writerows(results)\n",
        "\n",
        "print(f\"計算結果が {csv_file_path} に書き込まれました。\")\n",
        "\n"
      ]
    }
  ]
}