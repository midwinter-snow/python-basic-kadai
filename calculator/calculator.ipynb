{
  "nbformat": 4,
  "nbformat_minor": 0,
  "metadata": {
    "colab": {
      "provenance": []
    },
    "kernelspec": {
      "name": "python3",
      "display_name": "Python 3"
    },
    "language_info": {
      "name": "python"
    }
  },
  "cells": [
    {
      "cell_type": "code",
      "execution_count": 12,
      "metadata": {
        "colab": {
          "base_uri": "https://localhost:8080/"
        },
        "id": "U0d71qCucYhv",
        "outputId": "fd6815d4-b002-43e1-b0ea-066b34306838"
      },
      "outputs": [
        {
          "output_type": "stream",
          "name": "stdout",
          "text": [
            "Enter your first number:8\n",
            "Enter your second number:2\n",
            "8 + 2 = \n",
            "10\n",
            "8 - 2 = \n",
            "6\n",
            "8 * 2 = \n",
            "16\n",
            "8 / 2 = \n",
            "4.0\n"
          ]
        }
      ],
      "source": [
        "num_1 = int(input('Enter your first number:'))\n",
        "num_2 = int(input('Enter your second number:'))\n",
        "\n",
        "# 足し算\n",
        "print('{} + {} = '.format(num_1,num_2))\n",
        "print(num_1+num_2)\n",
        "\n",
        "# 引き算\n",
        "print('{} - {} = '.format(num_1,num_2))\n",
        "print( num_1-num_2)\n",
        "\n",
        "# 掛け算\n",
        "print('{} * {} = '.format(num_1,num_2))\n",
        "print(num_1*num_2)\n",
        "\n",
        "#割り算\n",
        "print('{} / {} = '.format(num_1,num_2))\n",
        "print(num_1/num_2)"
      ]
    }
  ]
}